{
 "cells": [
  {
   "cell_type": "markdown",
   "metadata": {},
   "source": [
    "1. WAP to convert from Celcius to Farenheit."
   ]
  },
  {
   "cell_type": "code",
   "execution_count": 1,
   "metadata": {
    "slideshow": {
     "slide_type": "notes"
    }
   },
   "outputs": [
    {
     "name": "stdout",
     "output_type": "stream",
     "text": [
      "100.526 degree Celcius is  212.9468 degree Farenheit\n"
     ]
    }
   ],
   "source": [
    "celcius=float(input(\"Enter temperature in Celcius : \"))\n",
    "farenheit=(celcius*1.8)+32\n",
    "print(celcius,\"degree Celcius is \",farenheit,\"degree Farenheit\")"
   ]
  },
  {
   "cell_type": "markdown",
   "metadata": {},
   "source": [
    "2. WAP to swap two numbers."
   ]
  },
  {
   "cell_type": "code",
   "execution_count": 2,
   "metadata": {},
   "outputs": [
    {
     "name": "stdout",
     "output_type": "stream",
     "text": [
      "Swapped ...\n",
      "First element :  21 \n",
      "Second Element :  12\n"
     ]
    }
   ],
   "source": [
    "a=int(input(\"Enter first number : \"))\n",
    "b=int(input(\"Enter second number : \"))\n",
    "\n",
    "c=b\n",
    "b=a\n",
    "a=c\n",
    "\n",
    "print(\"Swapped ...\")\n",
    "print(\"First element : \",a,\"\\nSecond Element : \",b)"
   ]
  },
  {
   "cell_type": "markdown",
   "metadata": {},
   "source": [
    "3. WAP to check whether a given year is leap year or not"
   ]
  },
  {
   "cell_type": "code",
   "execution_count": 3,
   "metadata": {},
   "outputs": [
    {
     "name": "stdout",
     "output_type": "stream",
     "text": [
      "2024 is a leap year !\n"
     ]
    }
   ],
   "source": [
    "year=int(input(\"Enter a year : \"))\n",
    "if((year%400==0)or(year%4==0 and year%100!=0)):\n",
    "    print(f\"{year} is a leap year !\")\n",
    "else:\n",
    "    print(f\"{year} is NOT a leap year !\")"
   ]
  },
  {
   "cell_type": "markdown",
   "metadata": {},
   "source": [
    "4. WAP to display reverse of a number"
   ]
  },
  {
   "cell_type": "code",
   "execution_count": 10,
   "metadata": {},
   "outputs": [
    {
     "name": "stdout",
     "output_type": "stream",
     "text": [
      "The reverse of 1234 is : 4321\n"
     ]
    }
   ],
   "source": [
    "num=int(input(\"Enter a number\"))\n",
    "temp=num\n",
    "reverse=0\n",
    "while(temp>0):\n",
    "    reverse=reverse*10+temp%10\n",
    "    temp=temp//10\n",
    "print(f\"The reverse of {num} is : {reverse}\")"
   ]
  }
 ],
 "metadata": {
  "kernelspec": {
   "display_name": "Python 3",
   "language": "python",
   "name": "python3"
  },
  "language_info": {
   "codemirror_mode": {
    "name": "ipython",
    "version": 3
   },
   "file_extension": ".py",
   "mimetype": "text/x-python",
   "name": "python",
   "nbconvert_exporter": "python",
   "pygments_lexer": "ipython3",
   "version": "3.12.3"
  }
 },
 "nbformat": 4,
 "nbformat_minor": 2
}
